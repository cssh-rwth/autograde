{
 "cells": [
  {
   "cell_type": "markdown",
   "source": [
    "# Awesome Class - Assignment X\n",
    "\n",
    "## Formalities\n",
    "**Submit in a group of 2-3 people until xx.xx.xxxx 23.59CET. The deadline is strict!**\n",
    "\n",
    "## Evaluation and Grading\n",
    "**General advice for programming exercises at _Awesome Institution_**\n",
    "\n",
    "Evaluation of your submission is done semi-automatically.\n",
    "Think of it as this notebook being executed once.\n",
    "Afterwards, some test functions are appended to this file and executed respectively.\n",
    "\n",
    "Therefore:\n",
    "- Submit valid _Python3_ code only!\n",
    "- Use **external** libraries if and only if specified by task.\n",
    "  Using the standard library is fine unless you're told otherwise.\n",
    "- Ensure your definitions (functions, classes, methods, variables) follow the specification.\n",
    "  The signature of a function/method/class usually can be inferred from task description, code skeletons and test cases.\n",
    "- Ensure your code does not rely on the current notebook or system state!\n",
    "  - Use `Kernel --> Restart & Run All` to see if you are using any definitions, variables etc. that are not in scope anymore.\n",
    "  - Double check if your code relies on presence of files or directories other than those mentioned in given tasks.\n",
    "  - Tests run under Linux, hence don't use Windows style paths (`some\\path`, `C:\\another\\path`).\n",
    "    `pathlib` provides neat abstractions for that, use it!\n",
    "    Also, use paths only that are relative to and within your working directory (OK: `some/path`, `./some/path`; NOT OK: `/home/alice/python`, `../../python`).\n",
    "- Keep your code [idempotent](https://en.wikipedia.org/wiki/Idempotence)!\n",
    "  Running your code or parts of it multiple times must not yield different results.\n",
    "  Minimize usage of global variables.\n",
    "- Ensure your code/notebook terminates in reasonable time.\n",
    "  We enforce timeouts during notebook/test execution.\n",
    "  Exceeding those results in an error and potentially no points for that sub-task.\n",
    "- Textual answers must always be backed by code and may not refer to results that are not part of your submission.\n",
    "\n",
    "**There's a story behind each of these points! Don't expect us to fix your code!**"
   ],
   "metadata": {
    "collapsed": false
   }
  },
  {
   "cell_type": "markdown",
   "metadata": {
    "pycharm": {
     "name": "#%% md\n"
    }
   },
   "source": [
    "Credentials of all team members (you may add or remove items from the list)"
   ]
  },
  {
   "cell_type": "code",
   "execution_count": null,
   "outputs": [],
   "source": [
    "team_members = [\n",
    "    {\n",
    "        'first_name': 'Alice',\n",
    "        'last_name': 'Foo',\n",
    "        'student_id': 12345\n",
    "    },\n",
    "    {\n",
    "        'first_name': 'Bob',\n",
    "        'last_name': 'Bar',\n",
    "        'student_id': 54321\n",
    "    }\n",
    "]"
   ],
   "metadata": {
    "collapsed": false,
    "pycharm": {
     "name": "#%%\n"
    }
   }
  },
  {
   "cell_type": "code",
   "execution_count": null,
   "outputs": [],
   "source": [
    "import sys\n",
    "import time\n",
    "\n",
    "import matplotlib.pyplot as plt\n",
    "import pandas as pd"
   ],
   "metadata": {
    "collapsed": false,
    "pycharm": {
     "name": "#%%\n"
    }
   }
  },
  {
   "cell_type": "code",
   "execution_count": null,
   "outputs": [],
   "source": [
    "SOME_CONSTANT = 42"
   ],
   "metadata": {
    "collapsed": false,
    "pycharm": {
     "name": "#%%\n"
    }
   }
  },
  {
   "cell_type": "markdown",
   "source": [
    "Let's do some plotting..."
   ],
   "metadata": {
    "collapsed": false,
    "pycharm": {
     "name": "#%% md\n"
    }
   }
  },
  {
   "cell_type": "code",
   "execution_count": null,
   "outputs": [],
   "source": [
    "df = pd.DataFrame([[1, 1], [2, 4], [3, 9], [4, 16], [5, 25]])\n",
    "df.plot()"
   ],
   "metadata": {
    "collapsed": false,
    "pycharm": {
     "name": "#%%\n"
    }
   }
  },
  {
   "cell_type": "markdown",
   "source": [
    "... or render a table"
   ],
   "metadata": {
    "collapsed": false,
    "pycharm": {
     "name": "#%% md\n"
    }
   }
  },
  {
   "cell_type": "code",
   "execution_count": null,
   "outputs": [],
   "source": [
    "from IPython.display import display\n",
    "\n",
    "display(df)"
   ],
   "metadata": {
    "collapsed": false,
    "pycharm": {
     "name": "#%%\n"
    }
   }
  },
  {
   "cell_type": "markdown",
   "source": [
    "Now, read some data from the file system"
   ],
   "metadata": {
    "collapsed": false,
    "pycharm": {
     "name": "#%% md\n"
    }
   }
  },
  {
   "cell_type": "code",
   "execution_count": null,
   "outputs": [],
   "source": [
    "with open('foo.txt', mode='rt') as f:\n",
    "    data = f.read()\n",
    "\n",
    "print(data[:len(data) // 2])\n",
    "print(data[len(data) // 2:], file=sys.stderr)"
   ],
   "metadata": {
    "collapsed": false,
    "pycharm": {
     "name": "#%%\n"
    }
   }
  },
  {
   "cell_type": "markdown",
   "source": [
    "... or modify an existing file"
   ],
   "metadata": {
    "collapsed": false,
    "pycharm": {
     "name": "#%% md\n"
    }
   }
  },
  {
   "cell_type": "code",
   "execution_count": null,
   "outputs": [],
   "source": [
    "with open('bar.txt', mode='a') as f:\n",
    "    f.write('>> modification by notebook <<')"
   ],
   "metadata": {
    "collapsed": false,
    "pycharm": {
     "name": "#%%\n"
    }
   }
  },
  {
   "cell_type": "markdown",
   "source": [
    "... or create a new file"
   ],
   "metadata": {
    "collapsed": false,
    "pycharm": {
     "name": "#%% md\n"
    }
   }
  },
  {
   "cell_type": "code",
   "execution_count": null,
   "outputs": [],
   "source": [
    "with open('fnord.txt', mode='wt') as f:\n",
    "    f.write('let\\'s leave some artifacts in the system')\n"
   ],
   "metadata": {
    "collapsed": false,
    "pycharm": {
     "name": "#%%\n"
    }
   }
  },
  {
   "cell_type": "markdown",
   "source": [
    "Explicit calls to `plt.show` will be re-directed to `auto_save_figure`, storing the plot in a file"
   ],
   "metadata": {
    "collapsed": false,
    "pycharm": {
     "name": "#%% md\n"
    }
   }
  },
  {
   "cell_type": "code",
   "execution_count": null,
   "outputs": [],
   "source": [
    "for e in [2, 3]:\n",
    "    plt.plot(*zip(*((v, v ** e) for v in range(-10, 10))))\n",
    "    plt.show()"
   ],
   "metadata": {
    "collapsed": false,
    "pycharm": {
     "name": "#%%\n"
    }
   }
  },
  {
   "cell_type": "markdown",
   "source": [
    "However, we can also save a figure explicitly!"
   ],
   "metadata": {
    "collapsed": false,
    "pycharm": {
     "name": "#%% md\n"
    }
   }
  },
  {
   "cell_type": "code",
   "execution_count": null,
   "outputs": [],
   "source": [
    "plt.plot(*zip(*((v, v ** 5 + (v - 5) ** 3 - (3 * v) ** 2) for v in range(-20, 20))))\n",
    "plt.savefig('plot.png')"
   ],
   "metadata": {
    "collapsed": false,
    "pycharm": {
     "name": "#%%\n"
    }
   }
  },
  {
   "cell_type": "markdown",
   "metadata": {
    "pycharm": {
     "name": "#%% md\n"
    }
   },
   "source": [
    "Here are some more functions we can write tests for"
   ]
  },
  {
   "cell_type": "code",
   "execution_count": null,
   "outputs": [],
   "source": [
    "def square(x: float) -> float:\n",
    "    return x ** 2\n",
    "\n",
    "\n",
    "def cube(x: float) -> float:\n",
    "    return x ** 3\n",
    "\n",
    "\n",
    "abs_cube = cube\n",
    "\n",
    "\n",
    "def fail():\n",
    "    raise ValueError('no chance, this function crashes so badly')\n",
    "\n",
    "\n",
    "def sleep(x):\n",
    "    time.sleep(x)"
   ],
   "metadata": {
    "collapsed": false,
    "pycharm": {
     "name": "#%%\n"
    }
   }
  },
  {
   "cell_type": "markdown",
   "source": [
    "Tests may define timeouts for cell and test execution.\n",
    "Hence, the following code may rise a `TimeoutError`!"
   ],
   "metadata": {
    "collapsed": false,
    "pycharm": {
     "name": "#%% md\n"
    }
   }
  },
  {
   "cell_type": "code",
   "execution_count": null,
   "outputs": [],
   "source": [
    "sleep(.1)"
   ],
   "metadata": {
    "collapsed": false,
    "pycharm": {
     "name": "#%%\n"
    }
   }
  },
  {
   "cell_type": "markdown",
   "source": [
    "Importing _autograde_ may fail due to import policy, see `NotebookTest.set_import_filter`"
   ],
   "metadata": {
    "collapsed": false,
    "pycharm": {
     "name": "#%% md\n"
    }
   }
  },
  {
   "cell_type": "code",
   "execution_count": null,
   "outputs": [],
   "source": [
    "import autograde\n",
    "\n",
    "print(autograde.__version__)"
   ],
   "metadata": {
    "collapsed": false,
    "pycharm": {
     "name": "#%%\n"
    }
   }
  },
  {
   "cell_type": "markdown",
   "source": [
    "Importing _autograde_ is an issue as it could be used to monkey-patch the library, e.g.\n",
    "\n",
    "```Python\n",
    "import autograde\n",
    "\n",
    "def mock(self, *_, **__):\n",
    "    return self.score, '🖕'\n",
    "\n",
    "autograde.notebook_test.UnitTest.__call__ = mock\n",
    "```"
   ],
   "metadata": {
    "collapsed": false
   }
  },
  {
   "cell_type": "markdown",
   "source": [
    "Import filters also work at test time and for various ways of importing"
   ],
   "metadata": {
    "collapsed": false,
    "pycharm": {
     "name": "#%% md\n"
    }
   }
  },
  {
   "cell_type": "code",
   "execution_count": null,
   "outputs": [],
   "source": [
    "def illegal_import():\n",
    "    exec('import autograde as ag')"
   ],
   "metadata": {
    "collapsed": false,
    "pycharm": {
     "name": "#%%\n"
    }
   }
  },
  {
   "cell_type": "markdown",
   "source": [
    "Unlike normal Python scripts, notebook execution continues even if a cell crashes!"
   ],
   "metadata": {
    "collapsed": false,
    "pycharm": {
     "name": "#%% md\n"
    }
   }
  },
  {
   "cell_type": "code",
   "execution_count": null,
   "outputs": [],
   "source": [
    "assert False, 'this cell will crash under any circumstances ...'"
   ],
   "metadata": {
    "collapsed": false,
    "pycharm": {
     "name": "#%%\n"
    }
   }
  },
  {
   "cell_type": "code",
   "execution_count": null,
   "outputs": [],
   "source": [
    "print('... but this cell is not affected :^)')"
   ],
   "metadata": {
    "collapsed": false,
    "pycharm": {
     "name": "#%%\n"
    }
   }
  },
  {
   "cell_type": "markdown",
   "source": [
    "Tests may access contents of markdown comments.\n",
    "This is useful when students are asked to elaborate on their solutions."
   ],
   "metadata": {
    "collapsed": false,
    "pycharm": {
     "name": "#%% md\n"
    }
   }
  },
  {
   "cell_type": "markdown",
   "source": [
    "**Q1:** _How many roads must a man walk down before you call him a man?_"
   ],
   "metadata": {
    "collapsed": false
   }
  },
  {
   "cell_type": "markdown",
   "source": [
    "**A1:** The answer, my friend, is blowin' in the wind. The answer is blowin' in the wind."
   ],
   "metadata": {
    "collapsed": false
   }
  },
  {
   "cell_type": "markdown",
   "source": [
    "**Q2:** _What's the answer to life, universe and everything?_"
   ],
   "metadata": {
    "collapsed": false
   }
  },
  {
   "cell_type": "markdown",
   "source": [
    "**A2:** 42 (forty-two)"
   ],
   "metadata": {
    "collapsed": false,
    "pycharm": {
     "name": "#%% md\n"
    }
   }
  }
 ],
 "metadata": {
  "kernel_info": {
   "name": "python3"
  },
  "kernelspec": {
   "display_name": "Python 3",
   "language": "python",
   "name": "python3"
  },
  "language_info": {
   "codemirror_mode": {
    "name": "ipython",
    "version": 3
   },
   "file_extension": ".py",
   "mimetype": "text/x-python",
   "name": "python",
   "nbconvert_exporter": "python",
   "pygments_lexer": "ipython3",
   "version": "3.7.3"
  },
  "nteract": {
   "version": "0.12.3"
  }
 },
 "nbformat": 4,
 "nbformat_minor": 2
}