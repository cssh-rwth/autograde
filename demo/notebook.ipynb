{
 "cells": [
  {
   "cell_type": "markdown",
   "source": [
    "# Awesome Class - Assignment X\n",
    "\n",
    "<font color='red'>\n",
    "\n",
    "## Formalities\n",
    "**Submit in a group of 2-3 people until xx.xx.xxxx 23.59CET. The deadline is strict!**\n",
    "\n",
    "## Evaluation and Grading\n",
    "**General advice for programming excercises at _Awesome Institution_**\n",
    "\n",
    "Evaluation of your submission is done semi automatically.\n",
    "Think of it as this notebook being executed once.\n",
    "Afterwards, some test functions are appended to this file and executed respectively.\n",
    "\n",
    "Therefore:\n",
    "- Submit valid _Python3_ code only!\n",
    "- Use **external** libraries if and only if when specified by task.\n",
    "  Using the standard library is fine though unless you're told otherwise.\n",
    "- Ensure your definitions (functions, classes, methods, variables) follow the specification.\n",
    "  The specific signature of e.g. a function usually can be inferred from task description, code skeletons and test cases.\n",
    "- Ensure your code does not rely on the current notebook or system state!\n",
    "  - Use `Kernel --> Restart & Run All` to see if you are using any definitions, variables etc. that are not in scope anymore.\n",
    "  - Double check if your code relies on presence of files or directories other than those mentioned in given tasks.\n",
    "  - Tests run under Linux, hence don't use Windows style paths (`some\\path`, `C:\\another\\path`).\n",
    "    `pathlib` provides neat abstractions for that.\n",
    "    Also, use paths only that are relative to and within your working directory (OK: `some/path`, `./some/path`; NOT OK: `/home/alice/python`, `../../python`).\n",
    "- Keep your code idempotent!\n",
    "  Running it or parts of it multiple times must not yield different results.\n",
    "  Minimize usage of global variables.\n",
    "- Ensure your code/notebook terminates in reasonable time.\n",
    "- Textual answers must always be backed by code and may not refer to results that are not part of your submission.\n",
    "\n",
    "**There's a story behind each of these points! Don't expect us to fix your code!**\n",
    "\n",
    "</font>"
   ],
   "metadata": {
    "collapsed": false
   }
  },
  {
   "cell_type": "code",
   "execution_count": 3,
   "metadata": {},
   "outputs": [],
   "source": [
    "# credentials of all team members (you may add or remove items from the list)\n",
    "team_members = [\n",
    "    {\n",
    "        'first_name': 'Alice',\n",
    "        'last_name': 'Foo',\n",
    "        'student_id': 12345\n",
    "    },\n",
    "    {\n",
    "        'first_name': 'Bob',\n",
    "        'last_name': 'Bar',\n",
    "        'student_id': 54321\n",
    "    }\n",
    "]"
   ]
  },
  {
   "cell_type": "code",
   "execution_count": null,
   "outputs": [],
   "source": [
    "SOME_CONSTANT = 42"
   ],
   "metadata": {
    "collapsed": false,
    "pycharm": {
     "name": "#%%\n"
    }
   }
  },
  {
   "cell_type": "code",
   "execution_count": null,
   "outputs": [],
   "source": [
    "import matplotlib.pyplot as plt\n",
    "import pandas as pd\n",
    "\n",
    "df = pd.DataFrame([[1,1], [2,4], [3,9], [4,16], [5,25]])\n",
    "df.plot()"
   ],
   "metadata": {
    "collapsed": false,
    "pycharm": {
     "name": "#%%\n"
    }
   }
  },
  {
   "cell_type": "code",
   "execution_count": null,
   "outputs": [],
   "source": [
    "from IPython.display import display\n",
    "\n",
    "display(df)"
   ],
   "metadata": {
    "collapsed": false,
    "pycharm": {
     "name": "#%%\n"
    }
   }
  },
  {
   "cell_type": "code",
   "execution_count": null,
   "outputs": [],
   "source": [
    "with open('foo.txt', mode='rt') as f:\n",
    "    print(f.read())"
   ],
   "metadata": {
    "collapsed": false,
    "pycharm": {
     "name": "#%%\n"
    }
   }
  },
  {
   "cell_type": "code",
   "execution_count": null,
   "outputs": [],
   "source": [
    "  \n",
    "with open('bar.txt', mode='a') as f:\n",
    "    f.write('>> modification by notebook <<')"
   ],
   "metadata": {
    "collapsed": false,
    "pycharm": {
     "name": "#%%\n"
    }
   }
  },
  {
   "cell_type": "code",
   "execution_count": null,
   "outputs": [],
   "source": [
    "with open('fnord.txt', mode='wt') as f:\n",
    "    f.write('let\\'s leave some artifacts in the system')"
   ],
   "metadata": {
    "collapsed": false,
    "pycharm": {
     "name": "#%%\n"
    }
   }
  },
  {
   "cell_type": "markdown",
   "source": [
    "**Q1:** _How many roads must a man walk down before you call him a man?_"
   ],
   "metadata": {
    "collapsed": false,
    "pycharm": {
     "name": "#%% md\n"
    }
   }
  },
  {
   "cell_type": "markdown",
   "source": [
    "**A1:** The answer, my friend, is blowin' in the wind. The answer is blowin' in the wind."
   ],
   "metadata": {
    "collapsed": false
   }
  },
  {
   "cell_type": "code",
   "execution_count": null,
   "outputs": [],
   "source": [
    "# explicit `plt.show` will be re-directed to `auto_save_figure`\n",
    "for e in [2, 3]:\n",
    "    plt.plot(*zip(*((v, v**e) for v in range(-10, 10))))\n",
    "    plt.show()"
   ],
   "metadata": {
    "collapsed": false,
    "pycharm": {
     "name": "#%%\n"
    }
   }
  },
  {
   "cell_type": "code",
   "execution_count": null,
   "outputs": [],
   "source": [
    "# However, we can also save a figure explicitly!\n",
    "plt.plot(*zip(*((v, v**5 + (v-5)**3 - (3*v)**2) for v in range(-20, 20))))\n",
    "plt.savefig('plot.png')"
   ],
   "metadata": {
    "collapsed": false,
    "pycharm": {
     "name": "#%%\n"
    }
   }
  },
  {
   "cell_type": "code",
   "execution_count": 16,
   "metadata": {
    "pycharm": {
     "name": "#%%\n"
    }
   },
   "outputs": [],
   "source": [
    "def square(x):\n",
    "    return x ** 2"
   ]
  },
  {
   "cell_type": "code",
   "execution_count": null,
   "outputs": [],
   "source": [
    "def cube(x):\n",
    "    return x ** 3"
   ],
   "metadata": {
    "collapsed": false,
    "pycharm": {
     "name": "#%%\n"
    }
   }
  },
  {
   "cell_type": "code",
   "execution_count": null,
   "outputs": [],
   "source": [
    "abs_cube = cube"
   ],
   "metadata": {
    "collapsed": false,
    "pycharm": {
     "name": "#%%\n"
    }
   }
  },
  {
   "cell_type": "code",
   "execution_count": null,
   "outputs": [],
   "source": [
    "def fail():\n",
    "    raise ValueError('no chance, this function crashes so badly')"
   ],
   "metadata": {
    "collapsed": false,
    "pycharm": {
     "name": "#%%\n"
    }
   }
  },
  {
   "cell_type": "code",
   "execution_count": null,
   "outputs": [],
   "source": [
    "def illegal_import():\n",
    "    import requests\n",
    "    print('our ip:', requests.get('https://canihazip.com/s').text)"
   ],
   "metadata": {
    "collapsed": false,
    "pycharm": {
     "name": "#%%\n"
    }
   }
  },
  {
   "cell_type": "code",
   "execution_count": null,
   "outputs": [],
   "source": [
    "import time\n",
    "\n",
    "def sleep(x):\n",
    "    time.sleep(x)\n",
    "    "
   ],
   "metadata": {
    "collapsed": false,
    "pycharm": {
     "name": "#%%\n"
    }
   }
  },
  {
   "cell_type": "code",
   "execution_count": null,
   "outputs": [],
   "source": [
    "# This cell may timeout\n",
    "sleep(.1)"
   ],
   "metadata": {
    "collapsed": false,
    "pycharm": {
     "name": "#%%\n"
    }
   }
  },
  {
   "cell_type": "markdown",
   "source": [
    "**Q2:** _What's the answer to life, universe and everything?_"
   ],
   "metadata": {
    "collapsed": false
   }
  },
  {
   "cell_type": "markdown",
   "source": [
    "**A2:** 42 (fourty two)"
   ],
   "metadata": {
    "collapsed": false
   }
  },
  {
   "cell_type": "code",
   "execution_count": null,
   "outputs": [],
   "source": [
    "print('this goes to stdout')\n",
    "assert False, 'Bad things happened! O.o'"
   ],
   "metadata": {
    "collapsed": false,
    "pycharm": {
     "name": "#%%\n"
    }
   }
  },
  {
   "cell_type": "code",
   "execution_count": null,
   "outputs": [],
   "source": [
    "from warnings import warn\n",
    "warn('is this state reached at all?')\n"
   ],
   "metadata": {
    "collapsed": false,
    "pycharm": {
     "name": "#%%\n"
    }
   }
  }
 ],
 "metadata": {
  "kernel_info": {
   "name": "python3"
  },
  "kernelspec": {
   "display_name": "Python 3",
   "language": "python",
   "name": "python3"
  },
  "language_info": {
   "codemirror_mode": {
    "name": "ipython",
    "version": 3
   },
   "file_extension": ".py",
   "mimetype": "text/x-python",
   "name": "python",
   "nbconvert_exporter": "python",
   "pygments_lexer": "ipython3",
   "version": "3.7.3"
  },
  "nteract": {
   "version": "0.12.3"
  }
 },
 "nbformat": 4,
 "nbformat_minor": 2
}